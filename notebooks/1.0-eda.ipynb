
# 1.0-eda.ipynb

# 📊 Exploratory Data Analysis for Credit Risk Model
# Author: Abraham Dagne

import pandas as pd
import numpy as np
import matplotlib.pyplot as plt
import seaborn as sns

# Display settings
pd.set_option('display.max_columns', None)
sns.set(style="whitegrid")

# 📥 Load the data
df = pd.read_csv('/content/data/raw/transactions.csv')  # Replace path as needed

# 👁️ Dataset Overview
print("Shape:", df.shape)
print("\nSample records:")
display(df.head())

print("\nData Types:")
print(df.dtypes)

# 🔍 Missing Values
missing = df.isnull().sum()
missing = missing[missing > 0].sort_values(ascending=False)
print("\nMissing values:")
print(missing)

# 🧮 Summary Statistics
print("\nSummary statistics:")
display(df.describe())

# 📈 Distribution of Numerical Features
num_cols = df.select_dtypes(include=np.number).columns.tolist()

for col in num_cols:
    plt.figure(figsize=(6, 4))
    sns.histplot(df[col], bins=30, kde=True)
    plt.title(f'Distribution of {col}')
    plt.show()

# 📊 Distribution of Categorical Features
cat_cols = df.select_dtypes(include='object').columns.tolist()

for col in cat_cols:
    plt.figure(figsize=(8, 4))
    sns.countplot(data=df, x=col, order=df[col].value_counts().index[:10])
    plt.xticks(rotation=45)
    plt.title(f'Countplot of {col}')
    plt.show()

# 🔗 Correlation Heatmap
plt.figure(figsize=(10, 8))
corr = df[num_cols].corr()
sns.heatmap(corr, annot=True, cmap='coolwarm', fmt=".2f", linewidths=0.5)
plt.title("Correlation Heatmap")
plt.show()

# 📦 Save preprocessed data for next tasks (optional)
df.to_csv('/content/data/processed/eda_cleaned.csv', index=False)

print("\n✅ EDA Completed.")
